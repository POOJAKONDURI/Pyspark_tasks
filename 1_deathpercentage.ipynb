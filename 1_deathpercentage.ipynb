{
 "cells": [
  {
   "cell_type": "markdown",
   "metadata": {},
   "source": [
    "death percentage locally"
   ]
  },
  {
   "cell_type": "code",
   "execution_count": 16,
   "metadata": {},
   "outputs": [
    {
     "name": "stdout",
     "output_type": "stream",
     "text": [
      "+--------------+------+---------+----------------------+\n",
      "|Country/Region|Deaths|Confirmed|india_death_percentage|\n",
      "+--------------+------+---------+----------------------+\n",
      "|         India|     0|        0|                  NULL|\n",
      "|         India|     0|        0|                  NULL|\n",
      "|         India|     0|        0|                  NULL|\n",
      "|         India|     0|        0|                  NULL|\n",
      "|         India|     0|        0|                  NULL|\n",
      "|         India|     0|        0|                  NULL|\n",
      "|         India|     0|        0|                  NULL|\n",
      "|         India|     0|        0|                  NULL|\n",
      "|         India|     0|        1|                   0.0|\n",
      "|         India|     0|        1|                   0.0|\n",
      "|         India|     0|        1|                   0.0|\n",
      "|         India|     0|        2|                   0.0|\n",
      "|         India|     0|        3|                   0.0|\n",
      "|         India|     0|        3|                   0.0|\n",
      "|         India|     0|        3|                   0.0|\n",
      "|         India|     0|        3|                   0.0|\n",
      "|         India|     0|        3|                   0.0|\n",
      "|         India|     0|        3|                   0.0|\n",
      "|         India|     0|        3|                   0.0|\n",
      "|         India|     0|        3|                   0.0|\n",
      "+--------------+------+---------+----------------------+\n",
      "only showing top 20 rows\n",
      "\n"
     ]
    }
   ],
   "source": [
    "from pyspark.sql import SparkSession\n",
    "from pyspark.sql import functions as F\n",
    "spark = SparkSession.builder.appName('deathpercentagelocally').getOrCreate() \n",
    "\n",
    "covid_df = spark.read.csv(\"C:/Users/pooja konduri/Downloads/covid-kaggle-dataset/covid_19_clean_complete.csv\", header=True, inferSchema=True)\n",
    "\n",
    "# Filter the data for India\n",
    "india_df = covid_df.filter(covid_df[\"Country/Region\"] == \"India\")\n",
    "\n",
    "# Calculate the death percentage for India\n",
    "india_df = india_df.withColumn(\"india_death_percentage\", (F.col(\"Deaths\") / F.col(\"Confirmed\")) * 100)\n",
    "\n",
    "# Show the result for India\n",
    "india_df.select(\"Country/Region\", \"Deaths\", \"Confirmed\", \"india_death_percentage\").show()\n",
    "\n",
    "spark.stop()"
   ]
  },
  {
   "cell_type": "markdown",
   "metadata": {},
   "source": [
    "death percentage globally"
   ]
  },
  {
   "cell_type": "code",
   "execution_count": 14,
   "metadata": {},
   "outputs": [
    {
     "name": "stdout",
     "output_type": "stream",
     "text": [
      "+--------------------------------------+\n",
      "|((sum(Deaths) / sum(Confirmed)) * 100)|\n",
      "+--------------------------------------+\n",
      "|                      5.23650680018023|\n",
      "+--------------------------------------+\n",
      "\n"
     ]
    }
   ],
   "source": [
    "covid_df = spark.read.csv(\"C:/Users/pooja konduri/Downloads/covid-kaggle-dataset/covid_19_clean_complete.csv\", header=True, inferSchema=True)\n",
    "\n",
    "# Calculate the global death percentage\n",
    "global_df = covid_df.agg((F.sum(\"Deaths\") / F.sum(\"Confirmed\")) * 100).alias(\"global_death_percentage\")\n",
    "\n",
    "# Show the global death percentage result\n",
    "global_df.show()\n"
   ]
  },
  {
   "cell_type": "code",
   "execution_count": null,
   "metadata": {},
   "outputs": [],
   "source": []
  }
 ],
 "metadata": {
  "kernelspec": {
   "display_name": "Python 3",
   "language": "python",
   "name": "python3"
  },
  "language_info": {
   "codemirror_mode": {
    "name": "ipython",
    "version": 3
   },
   "file_extension": ".py",
   "mimetype": "text/x-python",
   "name": "python",
   "nbconvert_exporter": "python",
   "pygments_lexer": "ipython3",
   "version": "3.12.3"
  }
 },
 "nbformat": 4,
 "nbformat_minor": 2
}
