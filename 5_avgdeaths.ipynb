{
 "cells": [
  {
   "cell_type": "markdown",
   "metadata": {},
   "source": [
    " Average number of deaths by day (Continents and Countries)\n"
   ]
  },
  {
   "cell_type": "code",
   "execution_count": 10,
   "metadata": {},
   "outputs": [
    {
     "name": "stdout",
     "output_type": "stream",
     "text": [
      "root\n",
      " |-- Country/Region: string (nullable = true)\n",
      " |-- Continent: string (nullable = true)\n",
      " |-- Population: integer (nullable = true)\n",
      " |-- TotalCases: integer (nullable = true)\n",
      " |-- NewCases: integer (nullable = true)\n",
      " |-- TotalDeaths: integer (nullable = true)\n",
      " |-- NewDeaths: integer (nullable = true)\n",
      " |-- TotalRecovered: integer (nullable = true)\n",
      " |-- NewRecovered: integer (nullable = true)\n",
      " |-- ActiveCases: integer (nullable = true)\n",
      " |-- Serious,Critical: integer (nullable = true)\n",
      " |-- Tot Cases/1M pop: integer (nullable = true)\n",
      " |-- Deaths/1M pop: double (nullable = true)\n",
      " |-- TotalTests: integer (nullable = true)\n",
      " |-- Tests/1M pop: integer (nullable = true)\n",
      " |-- WHO Region: string (nullable = true)\n",
      "\n",
      "+----------------+----------+\n",
      "|  Country/Region|avg_deaths|\n",
      "+----------------+----------+\n",
      "|            Chad|       5.0|\n",
      "|          Russia|     100.0|\n",
      "|        Paraguay|       9.0|\n",
      "|           Macao|      NULL|\n",
      "|             CAR|      12.0|\n",
      "|           Yemen|      17.0|\n",
      "|Turks and Caicos|      52.0|\n",
      "|         Senegal|      13.0|\n",
      "|          Sweden|     571.0|\n",
      "|      Cabo Verde|      49.0|\n",
      "+----------------+----------+\n",
      "only showing top 10 rows\n",
      "\n"
     ]
    }
   ],
   "source": [
    "from pyspark.sql import SparkSession\n",
    "from pyspark.sql import functions as F\n",
    "spark = SparkSession.builder.appName('deathpercentagelocally').getOrCreate() \n",
    "\n",
    "covid_df = spark.read.csv(\"C:/Users/pooja konduri/Downloads/covid-kaggle-dataset/worldometer_data.csv\", header=True, inferSchema=True)\n",
    "covid_df.printSchema()\n",
    "country_avg_deaths = covid_df.groupBy(\"Country/Region\").agg(\n",
    "    F.mean(\"Deaths/1M pop\").alias(\"avg_deaths\")\n",
    ")\n",
    "\n",
    "# Show the top 10 countries with their average deaths\n",
    "country_avg_deaths.select(\"Country/Region\", \"avg_deaths\").show(10)"
   ]
  },
  {
   "cell_type": "markdown",
   "metadata": {},
   "source": [
    " Average number of deaths by day (Continents "
   ]
  },
  {
   "cell_type": "code",
   "execution_count": 14,
   "metadata": {},
   "outputs": [
    {
     "name": "stdout",
     "output_type": "stream",
     "text": [
      "+-----------------+---------------------+\n",
      "|        Continent|avg_deaths_per_record|\n",
      "+-----------------+---------------------+\n",
      "|           Europe|   214.95555555555555|\n",
      "|           Africa|   18.241454545454545|\n",
      "|             NULL|                 NULL|\n",
      "|Australia/Oceania|                3.825|\n",
      "|    North America|   110.60714285714286|\n",
      "|    South America|   216.76923076923077|\n",
      "|             Asia|    43.97142857142857|\n",
      "+-----------------+---------------------+\n",
      "\n"
     ]
    }
   ],
   "source": [
    "\n",
    "from pyspark.sql import SparkSession\n",
    "from pyspark.sql import functions as F\n",
    "spark = SparkSession.builder.appName('deathpercentagelocally').getOrCreate() \n",
    "\n",
    "covid_df = spark.read.csv(\"C:/Users/pooja konduri/Downloads/covid-kaggle-dataset/worldometer_data.csv\", header=True, inferSchema=True)\n",
    "\n",
    "\n",
    "\n",
    "continent_avg_deaths = covid_df.groupBy(\"Continent\").agg(\n",
    "    F.mean(\"Deaths/1M pop\").alias(\"avg_deaths_per_record\")\n",
    ")\n",
    "\n",
    "# Show the results for each continent\n",
    "continent_avg_deaths.select(\"Continent\", \"avg_deaths_per_record\").show()\n"
   ]
  },
  {
   "cell_type": "markdown",
   "metadata": {},
   "source": []
  }
 ],
 "metadata": {
  "kernelspec": {
   "display_name": "Python 3",
   "language": "python",
   "name": "python3"
  },
  "language_info": {
   "codemirror_mode": {
    "name": "ipython",
    "version": 3
   },
   "file_extension": ".py",
   "mimetype": "text/x-python",
   "name": "python",
   "nbconvert_exporter": "python",
   "pygments_lexer": "ipython3",
   "version": "3.12.3"
  }
 },
 "nbformat": 4,
 "nbformat_minor": 2
}
