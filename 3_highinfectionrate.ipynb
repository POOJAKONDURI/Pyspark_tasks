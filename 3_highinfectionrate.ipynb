{
 "cells": [
  {
   "cell_type": "markdown",
   "metadata": {},
   "source": [
    "3. To find out the countries with the highest infection rates"
   ]
  },
  {
   "cell_type": "code",
   "execution_count": 2,
   "metadata": {},
   "outputs": [
    {
     "name": "stdout",
     "output_type": "stream",
     "text": [
      "+--------------+----------+----------+------------------+\n",
      "|Country/Region|TotalCases|Population|    infection_rate|\n",
      "+--------------+----------+----------+------------------+\n",
      "|         Qatar|    112092|   2807805|3.9921575750452756|\n",
      "| French Guiana|      8127|    299385|2.7145648579588157|\n",
      "|       Bahrain|     42889|   1706669|2.5130239079751258|\n",
      "|    San Marino|       699|     33938|2.0596381637102956|\n",
      "|         Chile|    366671|  19132514|1.9164810228284688|\n",
      "|        Panama|     71418|   4321282| 1.652703989232825|\n",
      "|        Kuwait|     70045|   4276658|1.6378443167538763|\n",
      "|          Oman|     80713|   5118446|1.5769043963734304|\n",
      "|           USA|   5032179| 331198130|1.5193862960518527|\n",
      "|  Vatican City|        12|       801|1.4981273408239701|\n",
      "+--------------+----------+----------+------------------+\n",
      "only showing top 10 rows\n",
      "\n"
     ]
    }
   ],
   "source": [
    "from pyspark.sql import SparkSession\n",
    "from pyspark.sql import functions as F\n",
    "spark = SparkSession.builder.appName('deathpercentagelocally').getOrCreate() \n",
    "\n",
    "covid_df = spark.read.csv(\"C:/Users/pooja konduri/Downloads/covid-kaggle-dataset/worldometer_data.csv\", header=True, inferSchema=True)\n",
    "\n",
    "# Calculate the infection rate for each country\n",
    "covid_df = covid_df.withColumn(\"infection_rate\", (F.col(\"TotalCases\") / F.col(\"Population\")) * 100)\n",
    "\n",
    "# Sort by infection rate in descending order to find the highest infection rates\n",
    "highest_infection_countries = covid_df.select(\"Country/Region\", \"TotalCases\", \"Population\", \"infection_rate\") \\\n",
    "                                      .orderBy(F.col(\"infection_rate\").desc())\n",
    "\n",
    "# Show the top 10 countries with the highest infection rates\n",
    "highest_infection_countries.show(10)"
   ]
  }
 ],
 "metadata": {
  "kernelspec": {
   "display_name": "Python 3",
   "language": "python",
   "name": "python3"
  },
  "language_info": {
   "codemirror_mode": {
    "name": "ipython",
    "version": 3
   },
   "file_extension": ".py",
   "mimetype": "text/x-python",
   "name": "python",
   "nbconvert_exporter": "python",
   "pygments_lexer": "ipython3",
   "version": "3.12.3"
  }
 },
 "nbformat": 4,
 "nbformat_minor": 2
}
