{
 "cells": [
  {
   "cell_type": "markdown",
   "metadata": {},
   "source": [
    "Average of cases divided by the number of population of each country\n",
    "(TOP 10)"
   ]
  },
  {
   "cell_type": "code",
   "execution_count": 4,
   "metadata": {},
   "outputs": [
    {
     "name": "stdout",
     "output_type": "stream",
     "text": [
      "root\n",
      " |-- Country/Region: string (nullable = true)\n",
      " |-- Continent: string (nullable = true)\n",
      " |-- Population: integer (nullable = true)\n",
      " |-- TotalCases: integer (nullable = true)\n",
      " |-- NewCases: integer (nullable = true)\n",
      " |-- TotalDeaths: integer (nullable = true)\n",
      " |-- NewDeaths: integer (nullable = true)\n",
      " |-- TotalRecovered: integer (nullable = true)\n",
      " |-- NewRecovered: integer (nullable = true)\n",
      " |-- ActiveCases: integer (nullable = true)\n",
      " |-- Serious,Critical: integer (nullable = true)\n",
      " |-- Tot Cases/1M pop: integer (nullable = true)\n",
      " |-- Deaths/1M pop: double (nullable = true)\n",
      " |-- TotalTests: integer (nullable = true)\n",
      " |-- Tests/1M pop: integer (nullable = true)\n",
      " |-- WHO Region: string (nullable = true)\n",
      "\n",
      "+--------------+-------------+----------+------------------------+\n",
      "|Country/Region|avg_confirmed|population|avg_cases_per_population|\n",
      "+--------------+-------------+----------+------------------------+\n",
      "|         Qatar|     112092.0|   2807805|    0.039921575750452756|\n",
      "| French Guiana|       8127.0|    299385|    0.027145648579588157|\n",
      "|       Bahrain|      42889.0|   1706669|     0.02513023907975126|\n",
      "|    San Marino|        699.0|     33938|    0.020596381637102954|\n",
      "|         Chile|     366671.0|  19132514|    0.019164810228284687|\n",
      "|        Panama|      71418.0|   4321282|     0.01652703989232825|\n",
      "|        Kuwait|      70045.0|   4276658|    0.016378443167538764|\n",
      "|          Oman|      80713.0|   5118446|    0.015769043963734304|\n",
      "|           USA|    5032179.0| 331198130|    0.015193862960518527|\n",
      "|  Vatican City|         12.0|       801|      0.0149812734082397|\n",
      "+--------------+-------------+----------+------------------------+\n",
      "\n"
     ]
    }
   ],
   "source": [
    "from pyspark.sql import SparkSession\n",
    "from pyspark.sql import functions as F\n",
    "spark = SparkSession.builder.appName('deathpercentagelocally').getOrCreate() \n",
    "\n",
    "covid_df = spark.read.csv(\"C:/Users/pooja konduri/Downloads/covid-kaggle-dataset/worldometer_data.csv\", header=True, inferSchema=True)\n",
    "covid_df.printSchema()\n",
    "\n",
    "# 1. Calculate the average number of confirmed cases for each country\n",
    "country_avg_cases = covid_df.groupBy(\"Country/Region\").agg(\n",
    "    F.mean(\"TotalCases\").alias(\"avg_confirmed\"),  # Average of confirmed cases\n",
    "    F.first(\"Population\").alias(\"population\")  # Assuming population data is consistent for each country\n",
    ")\n",
    "\n",
    "# 2. Calculate the ratio of the average cases to population\n",
    "country_avg_cases_ratio = country_avg_cases.withColumn(\n",
    "    \"avg_cases_per_population\", F.col(\"avg_confirmed\") / F.col(\"population\")\n",
    ")\n",
    "\n",
    "# 3. Sort by the ratio in descending order and get the top 10 countries\n",
    "top_10_avg_countries = country_avg_cases_ratio.orderBy(F.col(\"avg_cases_per_population\").desc()).limit(10)\n",
    "\n",
    "# Show the top 10 countries with the highest average case-to-population ratio\n",
    "top_10_avg_countries.select(\"Country/Region\", \"avg_confirmed\", \"population\", \"avg_cases_per_population\").show()\n"
   ]
  }
 ],
 "metadata": {
  "kernelspec": {
   "display_name": "Python 3",
   "language": "python",
   "name": "python3"
  },
  "language_info": {
   "codemirror_mode": {
    "name": "ipython",
    "version": 3
   },
   "file_extension": ".py",
   "mimetype": "text/x-python",
   "name": "python",
   "nbconvert_exporter": "python",
   "pygments_lexer": "ipython3",
   "version": "3.12.3"
  }
 },
 "nbformat": 4,
 "nbformat_minor": 2
}
