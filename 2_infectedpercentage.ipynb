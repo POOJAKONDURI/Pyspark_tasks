{
 "cells": [
  {
   "cell_type": "markdown",
   "metadata": {},
   "source": [
    "To find out the infected population percentage locally \n"
   ]
  },
  {
   "cell_type": "code",
   "execution_count": 13,
   "metadata": {},
   "outputs": [
    {
     "name": "stdout",
     "output_type": "stream",
     "text": [
      "root\n",
      " |-- Country/Region: string (nullable = true)\n",
      " |-- Continent: string (nullable = true)\n",
      " |-- Population: integer (nullable = true)\n",
      " |-- TotalCases: integer (nullable = true)\n",
      " |-- NewCases: integer (nullable = true)\n",
      " |-- TotalDeaths: integer (nullable = true)\n",
      " |-- NewDeaths: integer (nullable = true)\n",
      " |-- TotalRecovered: integer (nullable = true)\n",
      " |-- NewRecovered: integer (nullable = true)\n",
      " |-- ActiveCases: integer (nullable = true)\n",
      " |-- Serious,Critical: integer (nullable = true)\n",
      " |-- Tot Cases/1M pop: integer (nullable = true)\n",
      " |-- Deaths/1M pop: double (nullable = true)\n",
      " |-- TotalTests: integer (nullable = true)\n",
      " |-- Tests/1M pop: integer (nullable = true)\n",
      " |-- WHO Region: string (nullable = true)\n",
      "\n",
      "+--------------+----------+----------+-------------------------+\n",
      "|Country/Region|TotalCases|Population|india_infected_percentage|\n",
      "+--------------+----------+----------+-------------------------+\n",
      "|         India|   2025409|1381344997|      0.14662586134519442|\n",
      "+--------------+----------+----------+-------------------------+\n",
      "\n"
     ]
    }
   ],
   "source": [
    "\n",
    "from pyspark.sql import SparkSession\n",
    "from pyspark.sql import functions as F\n",
    "spark = SparkSession.builder.appName('deathpercentagelocally').getOrCreate() \n",
    "\n",
    "covid_df = spark.read.csv(\"C:/Users/pooja konduri/Downloads/covid-kaggle-dataset/worldometer_data.csv\", header=True, inferSchema=True)\n",
    "\n",
    "covid_df.printSchema()\n",
    "india_df = covid_df.filter(covid_df[\"Country/Region\"] == \"India\")\n",
    "\n",
    "# Calculate the infected population percentage for India\n",
    "india_df = india_df.withColumn(\"india_infected_percentage\", (F.col(\"TotalCases\") / F.col(\"Population\")) * 100)\n",
    "\n",
    "# Show the result for India\n",
    "india_df.select(\"Country/Region\", \"TotalCases\", \"Population\", \"india_infected_percentage\").show()"
   ]
  },
  {
   "cell_type": "markdown",
   "metadata": {},
   "source": [
    "To find out the infected population percentage globally"
   ]
  },
  {
   "cell_type": "code",
   "execution_count": 14,
   "metadata": {},
   "outputs": [
    {
     "name": "stdout",
     "output_type": "stream",
     "text": [
      "+-------------------------------------------+\n",
      "|((sum(TotalCases) / sum(Population)) * 100)|\n",
      "+-------------------------------------------+\n",
      "|                         0.3030017306988419|\n",
      "+-------------------------------------------+\n",
      "\n"
     ]
    }
   ],
   "source": [
    "global_infected_percentage = covid_df.agg((F.sum(\"TotalCases\") / F.sum(\"Population\")) * 100).alias(\"global_infected_percentage\")\n",
    "\n",
    "# Show the global infected population percentage\n",
    "global_infected_percentage.show()"
   ]
  }
 ],
 "metadata": {
  "kernelspec": {
   "display_name": "Python 3",
   "language": "python",
   "name": "python3"
  },
  "language_info": {
   "codemirror_mode": {
    "name": "ipython",
    "version": 3
   },
   "file_extension": ".py",
   "mimetype": "text/x-python",
   "name": "python",
   "nbconvert_exporter": "python",
   "pygments_lexer": "ipython3",
   "version": "3.12.3"
  }
 },
 "nbformat": 4,
 "nbformat_minor": 2
}
