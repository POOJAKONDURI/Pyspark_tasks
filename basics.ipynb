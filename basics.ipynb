{
 "cells": [
  {
   "cell_type": "markdown",
   "metadata": {},
   "source": [
    "starting a SparkSession"
   ]
  },
  {
   "cell_type": "code",
   "execution_count": 19,
   "metadata": {},
   "outputs": [],
   "source": [
    "from pyspark.sql import SparkSession\n",
    "from pyspark.sql import functions as F\n",
    "spark = SparkSession.builder\\\n",
    "        .appName('pysparkbasics')\\\n",
    "        .getOrCreate() "
   ]
  },
  {
   "cell_type": "markdown",
   "metadata": {},
   "source": [
    "Reading a CSV File"
   ]
  },
  {
   "cell_type": "code",
   "execution_count": 8,
   "metadata": {},
   "outputs": [
    {
     "name": "stdout",
     "output_type": "stream",
     "text": [
      "+--------------+--------------+--------+---------+----------+---------+------+---------+------+--------------------+\n",
      "|Province/State|Country/Region|     Lat|     Long|      Date|Confirmed|Deaths|Recovered|Active|          WHO Region|\n",
      "+--------------+--------------+--------+---------+----------+---------+------+---------+------+--------------------+\n",
      "|          NULL|   Afghanistan|33.93911|67.709953|2020-01-22|        0|     0|        0|     0|Eastern Mediterra...|\n",
      "|          NULL|       Albania| 41.1533|  20.1683|2020-01-22|        0|     0|        0|     0|              Europe|\n",
      "|          NULL|       Algeria| 28.0339|   1.6596|2020-01-22|        0|     0|        0|     0|              Africa|\n",
      "|          NULL|       Andorra| 42.5063|   1.5218|2020-01-22|        0|     0|        0|     0|              Europe|\n",
      "|          NULL|        Angola|-11.2027|  17.8739|2020-01-22|        0|     0|        0|     0|              Africa|\n",
      "+--------------+--------------+--------+---------+----------+---------+------+---------+------+--------------------+\n",
      "only showing top 5 rows\n",
      "\n"
     ]
    }
   ],
   "source": [
    "# Load a CSV file into a DataFrame\n",
    "covid_df = spark.read.csv(\"C:/Users/pooja konduri/Downloads/covid-kaggle-dataset/covid_19_clean_complete.csv\", header=True, inferSchema=True)\n",
    "\n",
    "# Show the first few rows of the DataFrame\n",
    "covid_df.show(5)\n"
   ]
  },
  {
   "cell_type": "markdown",
   "metadata": {},
   "source": [
    " Basic DataFrame Operations:"
   ]
  },
  {
   "cell_type": "code",
   "execution_count": 12,
   "metadata": {},
   "outputs": [
    {
     "name": "stdout",
     "output_type": "stream",
     "text": [
      "+--------------+------+\n",
      "|Country/Region|Deaths|\n",
      "+--------------+------+\n",
      "|   Afghanistan|     0|\n",
      "|       Albania|     0|\n",
      "|       Algeria|     0|\n",
      "|       Andorra|     0|\n",
      "|        Angola|     0|\n",
      "+--------------+------+\n",
      "only showing top 5 rows\n",
      "\n"
     ]
    }
   ],
   "source": [
    "# Select the columns 'Country_Region' and 'Deaths'\n",
    "covid_df.select([\"Country/Region\", \"Deaths\"]).show(5)\n"
   ]
  },
  {
   "cell_type": "markdown",
   "metadata": {},
   "source": [
    "b) Filtering Data:"
   ]
  },
  {
   "cell_type": "code",
   "execution_count": 14,
   "metadata": {},
   "outputs": [
    {
     "name": "stdout",
     "output_type": "stream",
     "text": [
      "+--------------+--------------+---------+--------+----------+---------+------+---------+------+---------------+\n",
      "|Province/State|Country/Region|      Lat|    Long|      Date|Confirmed|Deaths|Recovered|Active|     WHO Region|\n",
      "+--------------+--------------+---------+--------+----------+---------+------+---------+------+---------------+\n",
      "|          NULL|         India|20.593684|78.96288|2020-01-22|        0|     0|        0|     0|South-East Asia|\n",
      "|          NULL|         India|20.593684|78.96288|2020-01-23|        0|     0|        0|     0|South-East Asia|\n",
      "|          NULL|         India|20.593684|78.96288|2020-01-24|        0|     0|        0|     0|South-East Asia|\n",
      "|          NULL|         India|20.593684|78.96288|2020-01-25|        0|     0|        0|     0|South-East Asia|\n",
      "|          NULL|         India|20.593684|78.96288|2020-01-26|        0|     0|        0|     0|South-East Asia|\n",
      "+--------------+--------------+---------+--------+----------+---------+------+---------+------+---------------+\n",
      "only showing top 5 rows\n",
      "\n"
     ]
    }
   ],
   "source": [
    "# Filter rows where the 'Country_Region' is 'India'\n",
    "india_df = covid_df.filter(covid_df[\"Country/Region\"] == \"India\")\n",
    "\n",
    "# Show the filtered DataFrame\n",
    "india_df.show(5)\n"
   ]
  },
  {
   "cell_type": "markdown",
   "metadata": {},
   "source": [
    " Adding a New Column"
   ]
  },
  {
   "cell_type": "code",
   "execution_count": 16,
   "metadata": {},
   "outputs": [
    {
     "name": "stdout",
     "output_type": "stream",
     "text": [
      "+--------------+------+---------+----------------+\n",
      "|Country/Region|Deaths|Confirmed|death_percentage|\n",
      "+--------------+------+---------+----------------+\n",
      "|   Afghanistan|     0|        0|            NULL|\n",
      "|       Albania|     0|        0|            NULL|\n",
      "|       Algeria|     0|        0|            NULL|\n",
      "|       Andorra|     0|        0|            NULL|\n",
      "|        Angola|     0|        0|            NULL|\n",
      "+--------------+------+---------+----------------+\n",
      "only showing top 5 rows\n",
      "\n"
     ]
    }
   ],
   "source": [
    "# Add a new column 'death_percentage' (Deaths / Confirmed * 100)\n",
    "covid_df = covid_df.withColumn(\"death_percentage\", (covid_df[\"Deaths\"] / covid_df[\"Confirmed\"]) * 100)\n",
    "\n",
    "# Show the DataFrame with the new column\n",
    "covid_df.select(\"Country/Region\", \"Deaths\", \"Confirmed\", \"death_percentage\").show(5)\n"
   ]
  },
  {
   "cell_type": "markdown",
   "metadata": {},
   "source": [
    "Aggregating Data"
   ]
  },
  {
   "cell_type": "code",
   "execution_count": 20,
   "metadata": {},
   "outputs": [
    {
     "name": "stdout",
     "output_type": "stream",
     "text": [
      "+------------+\n",
      "|total_deaths|\n",
      "+------------+\n",
      "|    43384903|\n",
      "+------------+\n",
      "\n"
     ]
    }
   ],
   "source": [
    "# Calculate the global total deaths\n",
    "global_deaths = covid_df.agg(F.sum(\"Deaths\").alias(\"total_deaths\"))\n",
    "\n",
    "# Show the result\n",
    "global_deaths.show()\n"
   ]
  },
  {
   "cell_type": "markdown",
   "metadata": {},
   "source": [
    "# Write the processed DataFrame to a CSV file\n",
    "covid_df.write.csv(\"s3://bucket-name/processed-covid-data.csv\")\n"
   ]
  }
 ],
 "metadata": {
  "kernelspec": {
   "display_name": "Python 3",
   "language": "python",
   "name": "python3"
  },
  "language_info": {
   "codemirror_mode": {
    "name": "ipython",
    "version": 3
   },
   "file_extension": ".py",
   "mimetype": "text/x-python",
   "name": "python",
   "nbconvert_exporter": "python",
   "pygments_lexer": "ipython3",
   "version": "3.12.3"
  }
 },
 "nbformat": 4,
 "nbformat_minor": 2
}
