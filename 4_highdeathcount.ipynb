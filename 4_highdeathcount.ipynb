{
 "cells": [
  {
   "cell_type": "markdown",
   "metadata": {},
   "source": [
    "1.To find out the countries with the highest death counts"
   ]
  },
  {
   "cell_type": "code",
   "execution_count": 11,
   "metadata": {},
   "outputs": [
    {
     "name": "stdout",
     "output_type": "stream",
     "text": [
      "+--------------+------+\n",
      "|Country/Region| total|\n",
      "+--------------+------+\n",
      "|    San Marino|1238.0|\n",
      "|       Belgium| 850.0|\n",
      "|            UK| 683.0|\n",
      "|       Andorra| 673.0|\n",
      "|          Peru| 619.0|\n",
      "|         Spain| 610.0|\n",
      "|         Italy| 582.0|\n",
      "|        Sweden| 571.0|\n",
      "|         Chile| 517.0|\n",
      "|           USA| 492.0|\n",
      "+--------------+------+\n",
      "only showing top 10 rows\n",
      "\n"
     ]
    }
   ],
   "source": [
    "from pyspark.sql import SparkSession\n",
    "from pyspark.sql import functions as F\n",
    "spark = SparkSession.builder.appName('deathpercentagelocally').getOrCreate() \n",
    "\n",
    "covid_df = spark.read.csv(\"C:/Users/pooja konduri/Downloads/covid-kaggle-dataset/worldometer_data.csv\", header=True, inferSchema=True)\n",
    "\n",
    "#covid_df.printSchema()\n",
    "country_deaths = covid_df.groupBy(\"Country/Region\").agg(F.sum(\"Deaths/1M pop\").alias(\"total\"))\n",
    "\n",
    "# Sort countries by total deaths in descending order\n",
    "highest_death_countries = country_deaths.orderBy(F.col(\"total\").desc())\n",
    "\n",
    "# Show the top 10 countries with the highest death counts\n",
    "highest_death_countries.show(10)\n"
   ]
  },
  {
   "cell_type": "markdown",
   "metadata": {},
   "source": [
    " 2. Finding continents with the highest death counts"
   ]
  },
  {
   "cell_type": "code",
   "execution_count": 9,
   "metadata": {},
   "outputs": [
    {
     "name": "stdout",
     "output_type": "stream",
     "text": [
      "+-----------------+------------------+\n",
      "|        Continent|             total|\n",
      "+-----------------+------------------+\n",
      "|           Europe|            9673.0|\n",
      "|    North America|            3097.0|\n",
      "|    South America|            2818.0|\n",
      "|             Asia|1846.7999999999997|\n",
      "|           Africa|           1003.28|\n",
      "|Australia/Oceania|              15.3|\n",
      "|             NULL|              NULL|\n",
      "+-----------------+------------------+\n",
      "\n"
     ]
    }
   ],
   "source": [
    "# Group by continent and sum the deaths\n",
    "continent_deaths = covid_df.groupBy(\"Continent\").agg(F.sum(\"Deaths/1M pop\").alias(\"total\"))\n",
    "\n",
    "# Sort continents by total deaths in descending order\n",
    "highest_death_continents = continent_deaths.orderBy(F.col(\"total\").desc())\n",
    "\n",
    "# Show the top continents with the highest death counts\n",
    "highest_death_continents.show(10)\n"
   ]
  }
 ],
 "metadata": {
  "kernelspec": {
   "display_name": "Python 3",
   "language": "python",
   "name": "python3"
  },
  "language_info": {
   "codemirror_mode": {
    "name": "ipython",
    "version": 3
   },
   "file_extension": ".py",
   "mimetype": "text/x-python",
   "name": "python",
   "nbconvert_exporter": "python",
   "pygments_lexer": "ipython3",
   "version": "3.12.3"
  }
 },
 "nbformat": 4,
 "nbformat_minor": 2
}
